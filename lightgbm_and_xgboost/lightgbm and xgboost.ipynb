{
 "cells": [
  {
   "cell_type": "markdown",
   "metadata": {},
   "source": [
    "Here we are using dataset that contains the information about individuals from various countries. Our target is to predict whether a person makes <=50k or >50k annually on basis of the other information available. "
   ]
  },
  {
   "cell_type": "code",
   "execution_count": 1,
   "metadata": {
    "collapsed": true
   },
   "outputs": [],
   "source": [
    "import pandas as pd\n",
    "import numpy as np\n",
    "from sklearn.preprocessing import LabelEncoder,OneHotEncoder\n",
    "from sklearn.model_selection import train_test_split"
   ]
  },
  {
   "cell_type": "code",
   "execution_count": 2,
   "metadata": {},
   "outputs": [
    {
     "name": "stdout",
     "output_type": "stream",
     "text": [
      "(32560, 15)\n",
      "Index(['39', ' State-gov', ' 77516', ' Bachelors', ' 13', ' Never-married',\n",
      "       ' Adm-clerical', ' Not-in-family', ' White', ' Male', ' 2174', ' 0',\n",
      "       ' 40', ' United-States', ' <=50K'],\n",
      "      dtype='object')\n"
     ]
    }
   ],
   "source": [
    "df = pd.read_csv('adult.csv')\n",
    "print(df.shape)\n",
    "print(df.columns)"
   ]
  },
  {
   "cell_type": "code",
   "execution_count": 3,
   "metadata": {},
   "outputs": [
    {
     "name": "stdout",
     "output_type": "stream",
     "text": [
      "   39          State-gov   77516   Bachelors   13        Never-married  \\\n",
      "0  50   Self-emp-not-inc   83311   Bachelors   13   Married-civ-spouse   \n",
      "1  38            Private  215646     HS-grad    9             Divorced   \n",
      "2  53            Private  234721        11th    7   Married-civ-spouse   \n",
      "3  28            Private  338409   Bachelors   13   Married-civ-spouse   \n",
      "4  37            Private  284582     Masters   14   Married-civ-spouse   \n",
      "\n",
      "         Adm-clerical   Not-in-family   White     Male   2174   0   40  \\\n",
      "0     Exec-managerial         Husband   White     Male      0   0   13   \n",
      "1   Handlers-cleaners   Not-in-family   White     Male      0   0   40   \n",
      "2   Handlers-cleaners         Husband   Black     Male      0   0   40   \n",
      "3      Prof-specialty            Wife   Black   Female      0   0   40   \n",
      "4     Exec-managerial            Wife   White   Female      0   0   40   \n",
      "\n",
      "    United-States   <=50K  \n",
      "0   United-States   <=50K  \n",
      "1   United-States   <=50K  \n",
      "2   United-States   <=50K  \n",
      "3            Cuba   <=50K  \n",
      "4   United-States   <=50K  \n"
     ]
    }
   ],
   "source": [
    "print(df.head(5))"
   ]
  },
  {
   "cell_type": "code",
   "execution_count": 4,
   "metadata": {},
   "outputs": [],
   "source": [
    "df.columns = ['age','workclass','fnlwgt','education','education-num','marital_Status','occupation','relationship','race',\n",
    "              'sex','capital_gain','capital_loss','hours_per_week','native_country','Income'] \n",
    "#print(df.head(5))"
   ]
  },
  {
   "cell_type": "code",
   "execution_count": 5,
   "metadata": {},
   "outputs": [
    {
     "name": "stdout",
     "output_type": "stream",
     "text": [
      "age               0\n",
      "workclass         0\n",
      "fnlwgt            0\n",
      "education         0\n",
      "education-num     0\n",
      "marital_Status    0\n",
      "occupation        0\n",
      "relationship      0\n",
      "race              0\n",
      "sex               0\n",
      "capital_gain      0\n",
      "capital_loss      0\n",
      "hours_per_week    0\n",
      "native_country    0\n",
      "Income            0\n",
      "dtype: int64\n"
     ]
    }
   ],
   "source": [
    "print(df.isnull().sum())"
   ]
  },
  {
   "cell_type": "code",
   "execution_count": 6,
   "metadata": {
    "collapsed": true
   },
   "outputs": [],
   "source": [
    "cols = ['age','workclass','fnlwgt','education','education-num','marital_Status','occupation','relationship','race',\n",
    "              'sex','capital_gain','capital_loss','hours_per_week','native_country','Income']\n",
    "cols_categorical = ['age','workclass','education','education-num','marital_Status','occupation','relationship','race',\n",
    "              'sex','capital_gain','capital_loss','hours_per_week','native_country']\n",
    "cols_drop = ['Income']"
   ]
  },
  {
   "cell_type": "code",
   "execution_count": 7,
   "metadata": {},
   "outputs": [
    {
     "name": "stdout",
     "output_type": "stream",
     "text": [
      "<class 'pandas.core.frame.DataFrame'>\n",
      "<class 'pandas.core.series.Series'>\n"
     ]
    }
   ],
   "source": [
    "target_series = df['Income']\n",
    "df.drop(cols_drop,1,inplace=True)\n",
    "print(type(df))\n",
    "print(type(target_series))"
   ]
  },
  {
   "cell_type": "code",
   "execution_count": 8,
   "metadata": {},
   "outputs": [
    {
     "name": "stdout",
     "output_type": "stream",
     "text": [
      "0    24719\n",
      "1     7841\n",
      "dtype: int64\n"
     ]
    }
   ],
   "source": [
    "# print(pd.value_counts(target_series))\n",
    "le = LabelEncoder()\n",
    "le.fit(target_series)\n",
    "target_series = le.transform(target_series)\n",
    "print(pd.value_counts(target_series))"
   ]
  },
  {
   "cell_type": "code",
   "execution_count": 9,
   "metadata": {},
   "outputs": [],
   "source": [
    "#One Hot Encoding of the Categorical features \n",
    "one_hot_workclass=pd.get_dummies(df['workclass']) \n",
    "one_hot_education=pd.get_dummies(df['education']) \n",
    "one_hot_marital_Status=pd.get_dummies(df['marital_Status']) \n",
    "one_hot_occupation=pd.get_dummies(df['occupation'])\n",
    "one_hot_relationship=pd.get_dummies(df['relationship']) \n",
    "one_hot_race=pd.get_dummies(df['race']) \n",
    "one_hot_sex=pd.get_dummies(df['sex']) \n",
    "one_hot_native_country=pd.get_dummies(df['native_country']) "
   ]
  },
  {
   "cell_type": "code",
   "execution_count": 10,
   "metadata": {},
   "outputs": [],
   "source": [
    "#removing categorical features \n",
    "df.drop(['workclass','education','marital_Status','occupation','relationship','race','sex','native_country']\n",
    "          ,axis=1,inplace=True) "
   ]
  },
  {
   "cell_type": "code",
   "execution_count": 11,
   "metadata": {},
   "outputs": [],
   "source": [
    "#Merging one hot encoded features with our dataset 'data' \n",
    "df=pd.concat([df,one_hot_workclass,one_hot_education,one_hot_marital_Status,\n",
    "                one_hot_occupation,one_hot_relationship,one_hot_race,one_hot_sex,one_hot_native_country],axis=1) "
   ]
  },
  {
   "cell_type": "code",
   "execution_count": 12,
   "metadata": {},
   "outputs": [
    {
     "name": "stdout",
     "output_type": "stream",
     "text": [
      "   age  fnlwgt  education-num  capital_gain  capital_loss  hours_per_week   ?  \\\n",
      "0   50   83311             13             0             0              13   0   \n",
      "1   38  215646              9             0             0              40   0   \n",
      "2   53  234721              7             0             0              40   0   \n",
      "3   28  338409             13             0             0              40   0   \n",
      "4   37  284582             14             0             0              40   0   \n",
      "\n",
      "    Federal-gov   Local-gov   Never-worked     ...        Portugal  \\\n",
      "0             0           0              0     ...               0   \n",
      "1             0           0              0     ...               0   \n",
      "2             0           0              0     ...               0   \n",
      "3             0           0              0     ...               0   \n",
      "4             0           0              0     ...               0   \n",
      "\n",
      "    Puerto-Rico   Scotland   South   Taiwan   Thailand   Trinadad&Tobago  \\\n",
      "0             0          0       0        0          0                 0   \n",
      "1             0          0       0        0          0                 0   \n",
      "2             0          0       0        0          0                 0   \n",
      "3             0          0       0        0          0                 0   \n",
      "4             0          0       0        0          0                 0   \n",
      "\n",
      "    United-States   Vietnam   Yugoslavia  \n",
      "0               1         0            0  \n",
      "1               1         0            0  \n",
      "2               1         0            0  \n",
      "3               0         0            0  \n",
      "4               1         0            0  \n",
      "\n",
      "[5 rows x 108 columns]\n"
     ]
    }
   ],
   "source": [
    "print(df.head())"
   ]
  },
  {
   "cell_type": "code",
   "execution_count": 13,
   "metadata": {},
   "outputs": [
    {
     "name": "stdout",
     "output_type": "stream",
     "text": [
      "Index(['age', 'fnlwgt', 'education-num', 'capital_gain', 'capital_loss',\n",
      "       'hours_per_week', ' ?', ' Federal-gov', ' Local-gov', ' Never-worked',\n",
      "       ...\n",
      "       ' Portugal', ' Puerto-Rico', ' Scotland', ' South', ' Taiwan',\n",
      "       ' Thailand', ' Trinadad&Tobago', ' United-States', ' Vietnam',\n",
      "       ' Yugoslavia'],\n",
      "      dtype='object', length=108)\n",
      "Index(['age', 'fnlwgt', 'education-num', 'capital_gain', 'capital_loss',\n",
      "       'hours_per_week', ' ?', ' Federal-gov', ' Local-gov', ' Never-worked',\n",
      "       ...\n",
      "       ' Portugal', ' Puerto-Rico', ' Scotland', ' South', ' Taiwan',\n",
      "       ' Thailand', ' Trinadad&Tobago', ' United-States', ' Vietnam',\n",
      "       ' Yugoslavia'],\n",
      "      dtype='object', length=106)\n"
     ]
    }
   ],
   "source": [
    "print(df.columns)\n",
    "print(df.columns.unique())"
   ]
  },
  {
   "cell_type": "code",
   "execution_count": 14,
   "metadata": {},
   "outputs": [],
   "source": [
    "#removing dulpicate columns \n",
    "_, i = np.unique(df.columns, return_index=True) \n",
    "df = df.iloc[:, i] "
   ]
  },
  {
   "cell_type": "code",
   "execution_count": 15,
   "metadata": {},
   "outputs": [],
   "source": [
    "X = df\n",
    "y = target_series"
   ]
  },
  {
   "cell_type": "code",
   "execution_count": 16,
   "metadata": {
    "collapsed": true
   },
   "outputs": [],
   "source": [
    "X_train,X_test,y_train,y_test=train_test_split(X,y,test_size=.3)"
   ]
  },
  {
   "cell_type": "markdown",
   "metadata": {},
   "source": [
    "# Applying xgboost "
   ]
  },
  {
   "cell_type": "code",
   "execution_count": 17,
   "metadata": {},
   "outputs": [
    {
     "name": "stderr",
     "output_type": "stream",
     "text": [
      "/usr/local/lib/python3.5/dist-packages/sklearn/cross_validation.py:44: DeprecationWarning: This module was deprecated in version 0.18 in favor of the model_selection module into which all the refactored classes and functions are moved. Also note that the interface of the new CV iterators are different from that of this module. This module will be removed in 0.20.\n",
      "  \"This module will be removed in 0.20.\", DeprecationWarning)\n"
     ]
    }
   ],
   "source": [
    "import xgboost as xgb"
   ]
  },
  {
   "cell_type": "code",
   "execution_count": 19,
   "metadata": {},
   "outputs": [],
   "source": [
    "#The data is stored in a DMatrix object \n",
    "#label is used to define our outcome variable\n",
    "dtrain=xgb.DMatrix(X_train,label=y_train)\n",
    "dtest=xgb.DMatrix(X_test)"
   ]
  },
  {
   "cell_type": "code",
   "execution_count": 21,
   "metadata": {
    "collapsed": true
   },
   "outputs": [],
   "source": [
    "#setting parameters for xgboost\n",
    "parameters={'max_depth':7, \n",
    "            'eta':1, \n",
    "            'silent':1,\n",
    "            'objective':'binary:logistic',\n",
    "            'eval_metric':'auc',\n",
    "            'learning_rate':.05\n",
    "           }"
   ]
  },
  {
   "cell_type": "code",
   "execution_count": 23,
   "metadata": {
    "collapsed": true
   },
   "outputs": [],
   "source": [
    "#training our model \n",
    "num_round=50\n",
    "from datetime import datetime \n",
    "start = datetime.now() \n",
    "xg=xgb.train(parameters,dtrain,num_round) \n",
    "stop = datetime.now()"
   ]
  },
  {
   "cell_type": "code",
   "execution_count": 25,
   "metadata": {},
   "outputs": [
    {
     "data": {
      "text/plain": [
       "datetime.timedelta(0, 2, 705658)"
      ]
     },
     "execution_count": 25,
     "metadata": {},
     "output_type": "execute_result"
    }
   ],
   "source": [
    "#Execution time of the model \n",
    "execution_time_xgb = stop-start \n",
    "execution_time_xgb"
   ]
  },
  {
   "cell_type": "code",
   "execution_count": 27,
   "metadata": {},
   "outputs": [
    {
     "data": {
      "text/plain": [
       "array([ 0.0429053 ,  0.04668319,  0.09762883, ...,  0.95759577,\n",
       "        0.18473722,  0.75826865], dtype=float32)"
      ]
     },
     "execution_count": 27,
     "metadata": {},
     "output_type": "execute_result"
    }
   ],
   "source": [
    "#datetime.timedelta( , , ) representation => (days , seconds , microseconds) \n",
    "#now predicting our model on test set \n",
    "ypred=xg.predict(dtest) \n",
    "ypred"
   ]
  },
  {
   "cell_type": "code",
   "execution_count": 33,
   "metadata": {},
   "outputs": [],
   "source": [
    "#Converting probabilities into 1 or 0  \n",
    "for i in range(0,9768): \n",
    "    if ypred[i]>=0.5:       # setting threshold to .5 \n",
    "       ypred[i]=1 \n",
    "    else: \n",
    "       ypred[i]=0  "
   ]
  },
  {
   "cell_type": "code",
   "execution_count": 36,
   "metadata": {},
   "outputs": [
    {
     "data": {
      "text/plain": [
       "0.86128173628173632"
      ]
     },
     "execution_count": 36,
     "metadata": {},
     "output_type": "execute_result"
    }
   ],
   "source": [
    "#calculating accuracy of our model \n",
    "from sklearn.metrics import accuracy_score \n",
    "accuracy_xgb = accuracy_score(y_test,ypred) \n",
    "accuracy_xgb"
   ]
  },
  {
   "cell_type": "markdown",
   "metadata": {},
   "source": [
    "# Applying lightgbm "
   ]
  },
  {
   "cell_type": "code",
   "execution_count": 38,
   "metadata": {
    "collapsed": true
   },
   "outputs": [],
   "source": [
    "import lightgbm as lgb"
   ]
  },
  {
   "cell_type": "code",
   "execution_count": 40,
   "metadata": {
    "collapsed": true
   },
   "outputs": [],
   "source": [
    "train_data = lgb.Dataset(X_train,label=y_train)"
   ]
  },
  {
   "cell_type": "code",
   "execution_count": 41,
   "metadata": {
    "collapsed": true
   },
   "outputs": [],
   "source": [
    "#setting parameters for lightgbm\n",
    "param = {'num_leaves':150,\n",
    "         'objective':'binary',\n",
    "         'max_depth':7,\n",
    "         'learning_rate':.05,\n",
    "         'max_bin':200\n",
    "        }\n",
    "param['metric'] = ['auc', 'binary_logloss']"
   ]
  },
  {
   "cell_type": "code",
   "execution_count": 44,
   "metadata": {
    "collapsed": true
   },
   "outputs": [],
   "source": [
    "#Here we have set max_depth in xgb and LightGBM to 7 to have a fair comparison between the two."
   ]
  },
  {
   "cell_type": "code",
   "execution_count": 46,
   "metadata": {
    "collapsed": true
   },
   "outputs": [],
   "source": [
    "#training our model using light gbm\n",
    "num_round=50\n",
    "start=datetime.now()\n",
    "lgbm=lgb.train(param,train_data,num_round)\n",
    "stop=datetime.now()"
   ]
  },
  {
   "cell_type": "code",
   "execution_count": 48,
   "metadata": {},
   "outputs": [
    {
     "data": {
      "text/plain": [
       "datetime.timedelta(0, 0, 428140)"
      ]
     },
     "execution_count": 48,
     "metadata": {},
     "output_type": "execute_result"
    }
   ],
   "source": [
    "#Execution time of the model\n",
    "execution_time_lgbm = stop-start\n",
    "execution_time_lgbm"
   ]
  },
  {
   "cell_type": "code",
   "execution_count": 51,
   "metadata": {},
   "outputs": [
    {
     "data": {
      "text/plain": [
       "array([ 0.04152566,  0.04773206,  0.09749417,  0.570988  ,  0.04152566])"
      ]
     },
     "execution_count": 51,
     "metadata": {},
     "output_type": "execute_result"
    }
   ],
   "source": [
    "#predicting on test set\n",
    "ypred2=lgbm.predict(X_test)\n",
    "ypred2[0:5]  # showing first 5 predictions"
   ]
  },
  {
   "cell_type": "code",
   "execution_count": 54,
   "metadata": {},
   "outputs": [],
   "source": [
    "#converting probabilities into 0 or 1\n",
    "for i in range(0,9768):\n",
    "    if ypred2[i]>=.5:       # setting threshold to .5\n",
    "       ypred2[i]=1\n",
    "    else:  \n",
    "       ypred2[i]=0"
   ]
  },
  {
   "cell_type": "code",
   "execution_count": 66,
   "metadata": {},
   "outputs": [
    {
     "data": {
      "text/plain": [
       "0.86066748566748563"
      ]
     },
     "execution_count": 66,
     "metadata": {},
     "output_type": "execute_result"
    }
   ],
   "source": [
    "#calculating accuracy\n",
    "accuracy_lgbm = accuracy_score(ypred2,y_test)\n",
    "accuracy_lgbm"
   ]
  },
  {
   "cell_type": "code",
   "execution_count": 58,
   "metadata": {
    "collapsed": true
   },
   "outputs": [],
   "source": [
    "from sklearn.metrics import roc_auc_score"
   ]
  },
  {
   "cell_type": "code",
   "execution_count": 60,
   "metadata": {},
   "outputs": [
    {
     "data": {
      "text/plain": [
       "0.76309181363764977"
      ]
     },
     "execution_count": 60,
     "metadata": {},
     "output_type": "execute_result"
    }
   ],
   "source": [
    "#calculating roc_auc_score for xgboost\n",
    "auc_xgb =  roc_auc_score(y_test,ypred)\n",
    "auc_xgb"
   ]
  },
  {
   "cell_type": "code",
   "execution_count": 70,
   "metadata": {},
   "outputs": [
    {
     "data": {
      "text/plain": [
       "0.76212011839900173"
      ]
     },
     "execution_count": 70,
     "metadata": {},
     "output_type": "execute_result"
    }
   ],
   "source": [
    "#calculating roc_auc_score for light gbm. \n",
    "auc_lgbm = roc_auc_score(y_test,ypred2)\n",
    "auc_lgbm "
   ]
  },
  {
   "cell_type": "code",
   "execution_count": 71,
   "metadata": {
    "collapsed": true
   },
   "outputs": [],
   "source": [
    "comparison_dict = {\n",
    "                    'accuracy score':(accuracy_lgbm,accuracy_xgb),\n",
    "                    'auc score':(auc_lgbm,auc_xgb),\n",
    "                    'execution time':(execution_time_lgbm,execution_time_xgb)\n",
    "                  }"
   ]
  },
  {
   "cell_type": "code",
   "execution_count": 72,
   "metadata": {},
   "outputs": [
    {
     "data": {
      "text/html": [
       "<div>\n",
       "<table border=\"1\" class=\"dataframe\">\n",
       "  <thead>\n",
       "    <tr style=\"text-align: right;\">\n",
       "      <th></th>\n",
       "      <th>accuracy score</th>\n",
       "      <th>auc score</th>\n",
       "      <th>execution time</th>\n",
       "    </tr>\n",
       "  </thead>\n",
       "  <tbody>\n",
       "    <tr>\n",
       "      <th>LightGBM</th>\n",
       "      <td>0.860667</td>\n",
       "      <td>0.762120</td>\n",
       "      <td>00:00:00.428140</td>\n",
       "    </tr>\n",
       "    <tr>\n",
       "      <th>xgboost</th>\n",
       "      <td>0.861282</td>\n",
       "      <td>0.763092</td>\n",
       "      <td>00:00:02.705658</td>\n",
       "    </tr>\n",
       "  </tbody>\n",
       "</table>\n",
       "</div>"
      ],
      "text/plain": [
       "          accuracy score  auc score  execution time\n",
       "LightGBM        0.860667   0.762120 00:00:00.428140\n",
       "xgboost         0.861282   0.763092 00:00:02.705658"
      ]
     },
     "execution_count": 72,
     "metadata": {},
     "output_type": "execute_result"
    }
   ],
   "source": [
    "#Creating a dataframe ‘comparison_df’ for comparing the performance of Lightgbm and xgb. \n",
    "comparison_df = pd.DataFrame(comparison_dict) \n",
    "comparison_df.index= ['LightGBM','xgboost'] \n",
    "comparison_df"
   ]
  }
 ],
 "metadata": {
  "kernelspec": {
   "display_name": "Python 3",
   "language": "python",
   "name": "python3"
  },
  "language_info": {
   "codemirror_mode": {
    "name": "ipython",
    "version": 3
   },
   "file_extension": ".py",
   "mimetype": "text/x-python",
   "name": "python",
   "nbconvert_exporter": "python",
   "pygments_lexer": "ipython3",
   "version": "3.5.2+"
  }
 },
 "nbformat": 4,
 "nbformat_minor": 2
}
